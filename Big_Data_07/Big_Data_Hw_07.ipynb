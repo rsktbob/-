{
 "cells": [
  {
   "cell_type": "code",
   "execution_count": 1,
   "metadata": {
    "ExecuteTime": {
     "end_time": "2023-04-14T17:32:46.955317Z",
     "start_time": "2023-04-14T17:32:46.941942Z"
    },
    "collapsed": true
   },
   "outputs": [
    {
     "name": "stdout",
     "output_type": "stream",
     "text": [
      "533422123455553342213553\n"
     ]
    }
   ],
   "source": [
    "one_to_one = '''\n",
    "0->9\n",
    "1->5\n",
    "2->7\n",
    "3->1\n",
    "4->6\n",
    "5->8\n",
    "6->4\n",
    "7->2\n",
    "8->3\n",
    "9->0'''\n",
    "\n",
    "one_to_one_list = [element.split('->') for element in one_to_one.strip().split('\\n')]\n",
    "\n",
    "decode = {coverted:origin for origin, coverted in one_to_one_list}\n",
    "\n",
    "covertedword = '811677571688881167751881'\n",
    "\n",
    "originword = ''.join(decode[i] for i in covertedword)\n",
    "\n",
    "print(originword)"
   ]
  },
  {
   "cell_type": "code",
   "execution_count": 4,
   "metadata": {
    "ExecuteTime": {
     "end_time": "2023-04-14T21:26:11.721520Z",
     "start_time": "2023-04-14T21:26:10.305527Z"
    },
    "collapsed": false
   },
   "outputs": [],
   "source": [
    "import csv\n",
    "import requests\n",
    "\n",
    "def add_row(html, row, color=False):\n",
    "    html[0] += '\\n\\t<tr>'\n",
    "    if color == True:\n",
    "        for element in row:\n",
    "            html[0] += f'\\n\\t\\t<td style=color:blue;>{element}</td>'\n",
    "    else:\n",
    "        for element in row:\n",
    "            html[0] += f'\\n\\t\\t<td>{element}</td>'\n",
    "    html[0] += '\\n\\t</tr>'\n",
    "\n",
    "#下載109年度補助經費.csv\n",
    "url = 'https://quality.data.gov.tw/dq_download_csv.php?nid=14536&md5_url=2bf3ad7155adda77f271235ae004ecbc'\n",
    "response = requests.get(url)\n",
    "text = response.text\n",
    "\n",
    "with open('109年度補助經費.csv', 'w', encoding='utf-8') as f:\n",
    "    f.write(text)\n",
    "\n",
    "#撰寫html\n",
    "with open('109年度補助經費.csv', 'r', encoding='utf-8') as csvfile:\n",
    "    html = ['<table border=\"1\">']\n",
    "    reader = csv.DictReader(csvfile)\n",
    "    tittle = reader.fieldnames\n",
    "\n",
    "    count = 10\n",
    "    for row in reader:\n",
    "        if row['補助計畫'] == '資訊與科技教育行政及督導':\n",
    "            if count == 10:\n",
    "                add_row(html, tittle, True)\n",
    "                count = 0\n",
    "            add_row(html, row.values())\n",
    "            count += 1\n",
    "    html[0] += '\\n</table>'\n",
    "\n",
    "#寫入109年度補助經費_01.html\n",
    "with open('109年度補助經費_01.html', 'w', newline='', encoding='utf-8') as f:\n",
    "    f.write(html[0])\n"
   ]
  },
  {
   "cell_type": "code",
   "execution_count": 2,
   "metadata": {
    "ExecuteTime": {
     "end_time": "2023-04-14T21:26:19.593105Z",
     "start_time": "2023-04-14T21:26:16.929262Z"
    },
    "collapsed": false
   },
   "outputs": [
    {
     "name": "stdout",
     "output_type": "stream",
     "text": [
      "['大專院校名稱', '補助計畫摘要', '補助計畫', '補助經費']\n"
     ]
    }
   ],
   "source": [
    "import json\n",
    "import requests\n",
    "\n",
    "def add_row(html, row, color=False):\n",
    "    html[0] += '\\n\\t<tr>'\n",
    "    if color == True:\n",
    "        for element in row:\n",
    "            html[0] += f'\\n\\t\\t<td style=color:blue;>{element}</td>'\n",
    "    else:\n",
    "        for element in row:\n",
    "            html[0] += f'\\n\\t\\t<td>{element}</td>'\n",
    "    html[0] += '\\n\\t</tr>'\n",
    "\n",
    "url = 'https://quality.data.gov.tw/dq_download_json.php?nid=14536&md5_url=2bf3ad7155adda77f271235ae004ecbc'\n",
    "response = requests.get(url)\n",
    "text = response.text\n",
    "\n",
    "#撰寫html\n",
    "html = ['<table border=\"1\">']\n",
    "reader = json.loads(text)\n",
    "tittle = [element for element in reader[0]]\n",
    "\n",
    "count = 10\n",
    "for row in reader:\n",
    "    if row['補助計畫'] == '資訊與科技教育行政及督導':\n",
    "        if count == 10:\n",
    "            add_row(html, tittle, True)\n",
    "            count = 0\n",
    "        add_row(html, row.values())\n",
    "        count += 1\n",
    "html[0] += '\\n</table>'\n",
    "\n",
    "#寫入109年度補助經費_02.html\n",
    "with open('109年度補助經費_02.html', 'w', newline='', encoding='utf-8') as f:\n",
    "    f.write(html[0])\n"
   ]
  },
  {
   "cell_type": "markdown",
   "metadata": {
    "collapsed": false
   },
   "source": []
  }
 ],
 "metadata": {
  "kernelspec": {
   "display_name": "Python 3",
   "language": "python",
   "name": "python3"
  },
  "language_info": {
   "codemirror_mode": {
    "name": "ipython",
    "version": 3
   },
   "file_extension": ".py",
   "mimetype": "text/x-python",
   "name": "python",
   "nbconvert_exporter": "python",
   "pygments_lexer": "ipython3",
   "version": "3.10.0"
  }
 },
 "nbformat": 4,
 "nbformat_minor": 0
}
